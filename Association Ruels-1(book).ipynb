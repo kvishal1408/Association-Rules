{
 "cells": [
  {
   "cell_type": "markdown",
   "id": "cd98e79d",
   "metadata": {},
   "source": [
    "# Question-2]Prepare rules for the all the data sets \n",
    "1) Try different values of support and confidence. Observe the change in number of rules for different support,confidence values\n",
    "2) Change the minimum length in apriori algorithm\n",
    "3) Visulize the obtained rules using different plots \n"
   ]
  },
  {
   "cell_type": "code",
   "execution_count": 1,
   "id": "845f6693",
   "metadata": {},
   "outputs": [],
   "source": [
    "import pandas as pd"
   ]
  },
  {
   "cell_type": "code",
   "execution_count": 7,
   "id": "04f4ff36",
   "metadata": {},
   "outputs": [
    {
     "name": "stdout",
     "output_type": "stream",
     "text": [
      "      ChildBks  YouthBks  CookBks  DoItYBks  RefBks  ArtBks  GeogBks  \\\n",
      "0            0         1        0         1       0       0        1   \n",
      "1            1         0        0         0       0       0        0   \n",
      "2            0         0        0         0       0       0        0   \n",
      "3            1         1        1         0       1       0        1   \n",
      "4            0         0        1         0       0       0        1   \n",
      "...        ...       ...      ...       ...     ...     ...      ...   \n",
      "1995         0         0        1         0       0       1        1   \n",
      "1996         0         0        0         0       0       0        0   \n",
      "1997         0         0        0         0       0       0        0   \n",
      "1998         0         0        1         0       0       0        0   \n",
      "1999         0         0        0         0       0       0        0   \n",
      "\n",
      "      ItalCook  ItalAtlas  ItalArt  Florence  \n",
      "0            0          0        0         0  \n",
      "1            0          0        0         0  \n",
      "2            0          0        0         0  \n",
      "3            0          0        0         0  \n",
      "4            0          0        0         0  \n",
      "...        ...        ...      ...       ...  \n",
      "1995         1          0        1         1  \n",
      "1996         0          0        0         0  \n",
      "1997         0          0        0         0  \n",
      "1998         0          0        0         0  \n",
      "1999         0          0        0         0  \n",
      "\n",
      "[2000 rows x 11 columns]\n"
     ]
    }
   ],
   "source": [
    "df=pd.read_csv(\"E:\\\\data scines\\\\Assignment-Data sciencs\\\\Assocation\\\\book.csv\")\n",
    "print(df)"
   ]
  },
  {
   "cell_type": "code",
   "execution_count": 9,
   "id": "dcb88007",
   "metadata": {},
   "outputs": [
    {
     "data": {
      "text/html": [
       "<div>\n",
       "<style scoped>\n",
       "    .dataframe tbody tr th:only-of-type {\n",
       "        vertical-align: middle;\n",
       "    }\n",
       "\n",
       "    .dataframe tbody tr th {\n",
       "        vertical-align: top;\n",
       "    }\n",
       "\n",
       "    .dataframe thead th {\n",
       "        text-align: right;\n",
       "    }\n",
       "</style>\n",
       "<table border=\"1\" class=\"dataframe\">\n",
       "  <thead>\n",
       "    <tr style=\"text-align: right;\">\n",
       "      <th></th>\n",
       "      <th>ChildBks</th>\n",
       "      <th>YouthBks</th>\n",
       "      <th>CookBks</th>\n",
       "      <th>DoItYBks</th>\n",
       "      <th>RefBks</th>\n",
       "      <th>ArtBks</th>\n",
       "      <th>GeogBks</th>\n",
       "      <th>ItalCook</th>\n",
       "      <th>ItalAtlas</th>\n",
       "      <th>ItalArt</th>\n",
       "      <th>Florence</th>\n",
       "    </tr>\n",
       "  </thead>\n",
       "  <tbody>\n",
       "    <tr>\n",
       "      <th>0</th>\n",
       "      <td>0</td>\n",
       "      <td>1</td>\n",
       "      <td>0</td>\n",
       "      <td>1</td>\n",
       "      <td>0</td>\n",
       "      <td>0</td>\n",
       "      <td>1</td>\n",
       "      <td>0</td>\n",
       "      <td>0</td>\n",
       "      <td>0</td>\n",
       "      <td>0</td>\n",
       "    </tr>\n",
       "    <tr>\n",
       "      <th>1</th>\n",
       "      <td>1</td>\n",
       "      <td>0</td>\n",
       "      <td>0</td>\n",
       "      <td>0</td>\n",
       "      <td>0</td>\n",
       "      <td>0</td>\n",
       "      <td>0</td>\n",
       "      <td>0</td>\n",
       "      <td>0</td>\n",
       "      <td>0</td>\n",
       "      <td>0</td>\n",
       "    </tr>\n",
       "    <tr>\n",
       "      <th>2</th>\n",
       "      <td>0</td>\n",
       "      <td>0</td>\n",
       "      <td>0</td>\n",
       "      <td>0</td>\n",
       "      <td>0</td>\n",
       "      <td>0</td>\n",
       "      <td>0</td>\n",
       "      <td>0</td>\n",
       "      <td>0</td>\n",
       "      <td>0</td>\n",
       "      <td>0</td>\n",
       "    </tr>\n",
       "    <tr>\n",
       "      <th>3</th>\n",
       "      <td>1</td>\n",
       "      <td>1</td>\n",
       "      <td>1</td>\n",
       "      <td>0</td>\n",
       "      <td>1</td>\n",
       "      <td>0</td>\n",
       "      <td>1</td>\n",
       "      <td>0</td>\n",
       "      <td>0</td>\n",
       "      <td>0</td>\n",
       "      <td>0</td>\n",
       "    </tr>\n",
       "    <tr>\n",
       "      <th>4</th>\n",
       "      <td>0</td>\n",
       "      <td>0</td>\n",
       "      <td>1</td>\n",
       "      <td>0</td>\n",
       "      <td>0</td>\n",
       "      <td>0</td>\n",
       "      <td>1</td>\n",
       "      <td>0</td>\n",
       "      <td>0</td>\n",
       "      <td>0</td>\n",
       "      <td>0</td>\n",
       "    </tr>\n",
       "  </tbody>\n",
       "</table>\n",
       "</div>"
      ],
      "text/plain": [
       "   ChildBks  YouthBks  CookBks  DoItYBks  RefBks  ArtBks  GeogBks  ItalCook  \\\n",
       "0         0         1        0         1       0       0        1         0   \n",
       "1         1         0        0         0       0       0        0         0   \n",
       "2         0         0        0         0       0       0        0         0   \n",
       "3         1         1        1         0       1       0        1         0   \n",
       "4         0         0        1         0       0       0        1         0   \n",
       "\n",
       "   ItalAtlas  ItalArt  Florence  \n",
       "0          0        0         0  \n",
       "1          0        0         0  \n",
       "2          0        0         0  \n",
       "3          0        0         0  \n",
       "4          0        0         0  "
      ]
     },
     "execution_count": 9,
     "metadata": {},
     "output_type": "execute_result"
    }
   ],
   "source": [
    "df.head()"
   ]
  },
  {
   "cell_type": "markdown",
   "id": "0a6cc5ad",
   "metadata": {},
   "source": [
    "# EDA"
   ]
  },
  {
   "cell_type": "code",
   "execution_count": 10,
   "id": "5fa520fe",
   "metadata": {},
   "outputs": [
    {
     "name": "stdout",
     "output_type": "stream",
     "text": [
      "<class 'pandas.core.frame.DataFrame'>\n",
      "RangeIndex: 2000 entries, 0 to 1999\n",
      "Data columns (total 11 columns):\n",
      " #   Column     Non-Null Count  Dtype\n",
      "---  ------     --------------  -----\n",
      " 0   ChildBks   2000 non-null   int64\n",
      " 1   YouthBks   2000 non-null   int64\n",
      " 2   CookBks    2000 non-null   int64\n",
      " 3   DoItYBks   2000 non-null   int64\n",
      " 4   RefBks     2000 non-null   int64\n",
      " 5   ArtBks     2000 non-null   int64\n",
      " 6   GeogBks    2000 non-null   int64\n",
      " 7   ItalCook   2000 non-null   int64\n",
      " 8   ItalAtlas  2000 non-null   int64\n",
      " 9   ItalArt    2000 non-null   int64\n",
      " 10  Florence   2000 non-null   int64\n",
      "dtypes: int64(11)\n",
      "memory usage: 172.0 KB\n"
     ]
    }
   ],
   "source": [
    "df.info()"
   ]
  },
  {
   "cell_type": "code",
   "execution_count": 14,
   "id": "6eb33ab4",
   "metadata": {},
   "outputs": [
    {
     "data": {
      "text/plain": [
       "(2000, 11)"
      ]
     },
     "execution_count": 14,
     "metadata": {},
     "output_type": "execute_result"
    }
   ],
   "source": [
    "df.shape"
   ]
  },
  {
   "cell_type": "code",
   "execution_count": 15,
   "id": "e6b5ae47",
   "metadata": {},
   "outputs": [
    {
     "data": {
      "text/plain": [
       "ChildBks     int64\n",
       "YouthBks     int64\n",
       "CookBks      int64\n",
       "DoItYBks     int64\n",
       "RefBks       int64\n",
       "ArtBks       int64\n",
       "GeogBks      int64\n",
       "ItalCook     int64\n",
       "ItalAtlas    int64\n",
       "ItalArt      int64\n",
       "Florence     int64\n",
       "dtype: object"
      ]
     },
     "execution_count": 15,
     "metadata": {},
     "output_type": "execute_result"
    }
   ],
   "source": [
    "df.dtypes"
   ]
  },
  {
   "cell_type": "code",
   "execution_count": 16,
   "id": "aad0f965",
   "metadata": {},
   "outputs": [
    {
     "data": {
      "text/html": [
       "<div>\n",
       "<style scoped>\n",
       "    .dataframe tbody tr th:only-of-type {\n",
       "        vertical-align: middle;\n",
       "    }\n",
       "\n",
       "    .dataframe tbody tr th {\n",
       "        vertical-align: top;\n",
       "    }\n",
       "\n",
       "    .dataframe thead th {\n",
       "        text-align: right;\n",
       "    }\n",
       "</style>\n",
       "<table border=\"1\" class=\"dataframe\">\n",
       "  <thead>\n",
       "    <tr style=\"text-align: right;\">\n",
       "      <th></th>\n",
       "      <th>ChildBks</th>\n",
       "      <th>YouthBks</th>\n",
       "      <th>CookBks</th>\n",
       "      <th>DoItYBks</th>\n",
       "      <th>RefBks</th>\n",
       "      <th>ArtBks</th>\n",
       "      <th>GeogBks</th>\n",
       "      <th>ItalCook</th>\n",
       "      <th>ItalAtlas</th>\n",
       "      <th>ItalArt</th>\n",
       "      <th>Florence</th>\n",
       "    </tr>\n",
       "  </thead>\n",
       "  <tbody>\n",
       "    <tr>\n",
       "      <th>0</th>\n",
       "      <td>0</td>\n",
       "      <td>0</td>\n",
       "      <td>0</td>\n",
       "      <td>0</td>\n",
       "      <td>0</td>\n",
       "      <td>0</td>\n",
       "      <td>0</td>\n",
       "      <td>0</td>\n",
       "      <td>0</td>\n",
       "      <td>0</td>\n",
       "      <td>0</td>\n",
       "    </tr>\n",
       "  </tbody>\n",
       "</table>\n",
       "</div>"
      ],
      "text/plain": [
       "   ChildBks  YouthBks  CookBks  DoItYBks  RefBks  ArtBks  GeogBks  ItalCook  \\\n",
       "0         0         0        0         0       0       0        0         0   \n",
       "\n",
       "   ItalAtlas  ItalArt  Florence  \n",
       "0          0        0         0  "
      ]
     },
     "execution_count": 16,
     "metadata": {},
     "output_type": "execute_result"
    }
   ],
   "source": [
    "df.mode()"
   ]
  },
  {
   "cell_type": "code",
   "execution_count": 18,
   "id": "c1c3955d",
   "metadata": {},
   "outputs": [
    {
     "data": {
      "text/html": [
       "<div>\n",
       "<style scoped>\n",
       "    .dataframe tbody tr th:only-of-type {\n",
       "        vertical-align: middle;\n",
       "    }\n",
       "\n",
       "    .dataframe tbody tr th {\n",
       "        vertical-align: top;\n",
       "    }\n",
       "\n",
       "    .dataframe thead th {\n",
       "        text-align: right;\n",
       "    }\n",
       "</style>\n",
       "<table border=\"1\" class=\"dataframe\">\n",
       "  <thead>\n",
       "    <tr style=\"text-align: right;\">\n",
       "      <th></th>\n",
       "      <th>ChildBks</th>\n",
       "      <th>YouthBks</th>\n",
       "      <th>CookBks</th>\n",
       "      <th>DoItYBks</th>\n",
       "      <th>RefBks</th>\n",
       "      <th>ArtBks</th>\n",
       "      <th>GeogBks</th>\n",
       "      <th>ItalCook</th>\n",
       "      <th>ItalAtlas</th>\n",
       "      <th>ItalArt</th>\n",
       "      <th>Florence</th>\n",
       "    </tr>\n",
       "  </thead>\n",
       "  <tbody>\n",
       "    <tr>\n",
       "      <th>count</th>\n",
       "      <td>2000.000000</td>\n",
       "      <td>2000.000000</td>\n",
       "      <td>2000.00000</td>\n",
       "      <td>2000.000000</td>\n",
       "      <td>2000.000000</td>\n",
       "      <td>2000.000000</td>\n",
       "      <td>2000.000000</td>\n",
       "      <td>2000.000000</td>\n",
       "      <td>2000.000000</td>\n",
       "      <td>2000.000000</td>\n",
       "      <td>2000.000000</td>\n",
       "    </tr>\n",
       "    <tr>\n",
       "      <th>mean</th>\n",
       "      <td>0.423000</td>\n",
       "      <td>0.247500</td>\n",
       "      <td>0.43100</td>\n",
       "      <td>0.282000</td>\n",
       "      <td>0.214500</td>\n",
       "      <td>0.241000</td>\n",
       "      <td>0.276000</td>\n",
       "      <td>0.113500</td>\n",
       "      <td>0.037000</td>\n",
       "      <td>0.048500</td>\n",
       "      <td>0.108500</td>\n",
       "    </tr>\n",
       "    <tr>\n",
       "      <th>std</th>\n",
       "      <td>0.494159</td>\n",
       "      <td>0.431668</td>\n",
       "      <td>0.49534</td>\n",
       "      <td>0.450086</td>\n",
       "      <td>0.410578</td>\n",
       "      <td>0.427797</td>\n",
       "      <td>0.447129</td>\n",
       "      <td>0.317282</td>\n",
       "      <td>0.188809</td>\n",
       "      <td>0.214874</td>\n",
       "      <td>0.311089</td>\n",
       "    </tr>\n",
       "    <tr>\n",
       "      <th>min</th>\n",
       "      <td>0.000000</td>\n",
       "      <td>0.000000</td>\n",
       "      <td>0.00000</td>\n",
       "      <td>0.000000</td>\n",
       "      <td>0.000000</td>\n",
       "      <td>0.000000</td>\n",
       "      <td>0.000000</td>\n",
       "      <td>0.000000</td>\n",
       "      <td>0.000000</td>\n",
       "      <td>0.000000</td>\n",
       "      <td>0.000000</td>\n",
       "    </tr>\n",
       "    <tr>\n",
       "      <th>25%</th>\n",
       "      <td>0.000000</td>\n",
       "      <td>0.000000</td>\n",
       "      <td>0.00000</td>\n",
       "      <td>0.000000</td>\n",
       "      <td>0.000000</td>\n",
       "      <td>0.000000</td>\n",
       "      <td>0.000000</td>\n",
       "      <td>0.000000</td>\n",
       "      <td>0.000000</td>\n",
       "      <td>0.000000</td>\n",
       "      <td>0.000000</td>\n",
       "    </tr>\n",
       "    <tr>\n",
       "      <th>50%</th>\n",
       "      <td>0.000000</td>\n",
       "      <td>0.000000</td>\n",
       "      <td>0.00000</td>\n",
       "      <td>0.000000</td>\n",
       "      <td>0.000000</td>\n",
       "      <td>0.000000</td>\n",
       "      <td>0.000000</td>\n",
       "      <td>0.000000</td>\n",
       "      <td>0.000000</td>\n",
       "      <td>0.000000</td>\n",
       "      <td>0.000000</td>\n",
       "    </tr>\n",
       "    <tr>\n",
       "      <th>75%</th>\n",
       "      <td>1.000000</td>\n",
       "      <td>0.000000</td>\n",
       "      <td>1.00000</td>\n",
       "      <td>1.000000</td>\n",
       "      <td>0.000000</td>\n",
       "      <td>0.000000</td>\n",
       "      <td>1.000000</td>\n",
       "      <td>0.000000</td>\n",
       "      <td>0.000000</td>\n",
       "      <td>0.000000</td>\n",
       "      <td>0.000000</td>\n",
       "    </tr>\n",
       "    <tr>\n",
       "      <th>max</th>\n",
       "      <td>1.000000</td>\n",
       "      <td>1.000000</td>\n",
       "      <td>1.00000</td>\n",
       "      <td>1.000000</td>\n",
       "      <td>1.000000</td>\n",
       "      <td>1.000000</td>\n",
       "      <td>1.000000</td>\n",
       "      <td>1.000000</td>\n",
       "      <td>1.000000</td>\n",
       "      <td>1.000000</td>\n",
       "      <td>1.000000</td>\n",
       "    </tr>\n",
       "  </tbody>\n",
       "</table>\n",
       "</div>"
      ],
      "text/plain": [
       "          ChildBks     YouthBks     CookBks     DoItYBks       RefBks  \\\n",
       "count  2000.000000  2000.000000  2000.00000  2000.000000  2000.000000   \n",
       "mean      0.423000     0.247500     0.43100     0.282000     0.214500   \n",
       "std       0.494159     0.431668     0.49534     0.450086     0.410578   \n",
       "min       0.000000     0.000000     0.00000     0.000000     0.000000   \n",
       "25%       0.000000     0.000000     0.00000     0.000000     0.000000   \n",
       "50%       0.000000     0.000000     0.00000     0.000000     0.000000   \n",
       "75%       1.000000     0.000000     1.00000     1.000000     0.000000   \n",
       "max       1.000000     1.000000     1.00000     1.000000     1.000000   \n",
       "\n",
       "            ArtBks      GeogBks     ItalCook    ItalAtlas      ItalArt  \\\n",
       "count  2000.000000  2000.000000  2000.000000  2000.000000  2000.000000   \n",
       "mean      0.241000     0.276000     0.113500     0.037000     0.048500   \n",
       "std       0.427797     0.447129     0.317282     0.188809     0.214874   \n",
       "min       0.000000     0.000000     0.000000     0.000000     0.000000   \n",
       "25%       0.000000     0.000000     0.000000     0.000000     0.000000   \n",
       "50%       0.000000     0.000000     0.000000     0.000000     0.000000   \n",
       "75%       0.000000     1.000000     0.000000     0.000000     0.000000   \n",
       "max       1.000000     1.000000     1.000000     1.000000     1.000000   \n",
       "\n",
       "          Florence  \n",
       "count  2000.000000  \n",
       "mean      0.108500  \n",
       "std       0.311089  \n",
       "min       0.000000  \n",
       "25%       0.000000  \n",
       "50%       0.000000  \n",
       "75%       0.000000  \n",
       "max       1.000000  "
      ]
     },
     "execution_count": 18,
     "metadata": {},
     "output_type": "execute_result"
    }
   ],
   "source": [
    "df.describe()"
   ]
  },
  {
   "cell_type": "code",
   "execution_count": 21,
   "id": "7b6f2a56",
   "metadata": {},
   "outputs": [
    {
     "data": {
      "text/plain": [
       "Index(['ChildBks', 'YouthBks', 'CookBks', 'DoItYBks', 'RefBks', 'ArtBks',\n",
       "       'GeogBks', 'ItalCook', 'ItalAtlas', 'ItalArt', 'Florence'],\n",
       "      dtype='object')"
      ]
     },
     "execution_count": 21,
     "metadata": {},
     "output_type": "execute_result"
    }
   ],
   "source": [
    "df.columns"
   ]
  },
  {
   "cell_type": "code",
   "execution_count": 22,
   "id": "f305b3c6",
   "metadata": {},
   "outputs": [
    {
     "data": {
      "text/plain": [
       "ChildBks     0\n",
       "YouthBks     0\n",
       "CookBks      0\n",
       "DoItYBks     0\n",
       "RefBks       0\n",
       "ArtBks       0\n",
       "GeogBks      0\n",
       "ItalCook     0\n",
       "ItalAtlas    0\n",
       "ItalArt      0\n",
       "Florence     0\n",
       "dtype: int64"
      ]
     },
     "execution_count": 22,
     "metadata": {},
     "output_type": "execute_result"
    }
   ],
   "source": [
    "df.isnull().sum()"
   ]
  },
  {
   "cell_type": "code",
   "execution_count": 24,
   "id": "ede6ed8c",
   "metadata": {},
   "outputs": [
    {
     "data": {
      "text/plain": [
       "0       False\n",
       "1       False\n",
       "2       False\n",
       "3       False\n",
       "4       False\n",
       "        ...  \n",
       "1995    False\n",
       "1996     True\n",
       "1997     True\n",
       "1998     True\n",
       "1999     True\n",
       "Length: 2000, dtype: bool"
      ]
     },
     "execution_count": 24,
     "metadata": {},
     "output_type": "execute_result"
    }
   ],
   "source": [
    "df.duplicated()"
   ]
  },
  {
   "cell_type": "code",
   "execution_count": 39,
   "id": "30e73103",
   "metadata": {},
   "outputs": [
    {
     "name": "stdout",
     "output_type": "stream",
     "text": [
      "Collecting mlxtend\n",
      "  Downloading mlxtend-0.20.0-py2.py3-none-any.whl (1.3 MB)\n",
      "Requirement already satisfied: numpy>=1.16.2 in c:\\users\\lenovo\\anaconda3\\lib\\site-packages (from mlxtend) (1.21.5)\n",
      "Requirement already satisfied: joblib>=0.13.2 in c:\\users\\lenovo\\anaconda3\\lib\\site-packages (from mlxtend) (1.1.0)\n",
      "Requirement already satisfied: matplotlib>=3.0.0 in c:\\users\\lenovo\\anaconda3\\lib\\site-packages (from mlxtend) (3.5.1)\n",
      "Requirement already satisfied: pandas>=0.24.2 in c:\\users\\lenovo\\anaconda3\\lib\\site-packages (from mlxtend) (1.4.2)\n",
      "Requirement already satisfied: scipy>=1.2.1 in c:\\users\\lenovo\\anaconda3\\lib\\site-packages (from mlxtend) (1.7.3)\n",
      "Requirement already satisfied: setuptools in c:\\users\\lenovo\\anaconda3\\lib\\site-packages (from mlxtend) (61.2.0)\n",
      "Requirement already satisfied: scikit-learn>=1.0.2 in c:\\users\\lenovo\\anaconda3\\lib\\site-packages (from mlxtend) (1.0.2)\n",
      "Requirement already satisfied: fonttools>=4.22.0 in c:\\users\\lenovo\\anaconda3\\lib\\site-packages (from matplotlib>=3.0.0->mlxtend) (4.25.0)\n",
      "Requirement already satisfied: kiwisolver>=1.0.1 in c:\\users\\lenovo\\anaconda3\\lib\\site-packages (from matplotlib>=3.0.0->mlxtend) (1.3.2)\n",
      "Requirement already satisfied: pyparsing>=2.2.1 in c:\\users\\lenovo\\anaconda3\\lib\\site-packages (from matplotlib>=3.0.0->mlxtend) (3.0.4)\n",
      "Requirement already satisfied: packaging>=20.0 in c:\\users\\lenovo\\anaconda3\\lib\\site-packages (from matplotlib>=3.0.0->mlxtend) (21.3)\n",
      "Requirement already satisfied: python-dateutil>=2.7 in c:\\users\\lenovo\\anaconda3\\lib\\site-packages (from matplotlib>=3.0.0->mlxtend) (2.8.2)\n",
      "Requirement already satisfied: cycler>=0.10 in c:\\users\\lenovo\\anaconda3\\lib\\site-packages (from matplotlib>=3.0.0->mlxtend) (0.11.0)\n",
      "Requirement already satisfied: pillow>=6.2.0 in c:\\users\\lenovo\\anaconda3\\lib\\site-packages (from matplotlib>=3.0.0->mlxtend) (9.0.1)\n",
      "Requirement already satisfied: pytz>=2020.1 in c:\\users\\lenovo\\anaconda3\\lib\\site-packages (from pandas>=0.24.2->mlxtend) (2021.3)\n",
      "Requirement already satisfied: six>=1.5 in c:\\users\\lenovo\\anaconda3\\lib\\site-packages (from python-dateutil>=2.7->matplotlib>=3.0.0->mlxtend) (1.16.0)\n",
      "Requirement already satisfied: threadpoolctl>=2.0.0 in c:\\users\\lenovo\\anaconda3\\lib\\site-packages (from scikit-learn>=1.0.2->mlxtend) (2.2.0)\n",
      "Installing collected packages: mlxtend\n",
      "Successfully installed mlxtend-0.20.0\n"
     ]
    }
   ],
   "source": [
    "!pip install mlxtend"
   ]
  },
  {
   "cell_type": "markdown",
   "id": "bccfdb5f",
   "metadata": {},
   "source": [
    "# Visualization¶"
   ]
  },
  {
   "cell_type": "code",
   "execution_count": 44,
   "id": "405f2ee6",
   "metadata": {},
   "outputs": [],
   "source": [
    "import pandas as pd\n",
    "import numpy as np\n",
    "import matplotlib.pyplot as plt\n",
    "import seaborn as sns\n",
    "from mlxtend.frequent_patterns import apriori,association_rules,fpgrowth\n",
    "from mlxtend.preprocessing import TransactionEncoder\n",
    "import warnings\n",
    "warnings.filterwarnings('ignore')"
   ]
  },
  {
   "cell_type": "code",
   "execution_count": 26,
   "id": "3f957d9c",
   "metadata": {},
   "outputs": [
    {
     "data": {
      "text/html": [
       "<div>\n",
       "<style scoped>\n",
       "    .dataframe tbody tr th:only-of-type {\n",
       "        vertical-align: middle;\n",
       "    }\n",
       "\n",
       "    .dataframe tbody tr th {\n",
       "        vertical-align: top;\n",
       "    }\n",
       "\n",
       "    .dataframe thead th {\n",
       "        text-align: right;\n",
       "    }\n",
       "</style>\n",
       "<table border=\"1\" class=\"dataframe\">\n",
       "  <thead>\n",
       "    <tr style=\"text-align: right;\">\n",
       "      <th></th>\n",
       "      <th>ChildBks</th>\n",
       "      <th>YouthBks</th>\n",
       "      <th>CookBks</th>\n",
       "      <th>DoItYBks</th>\n",
       "      <th>RefBks</th>\n",
       "      <th>ArtBks</th>\n",
       "      <th>GeogBks</th>\n",
       "      <th>ItalCook</th>\n",
       "      <th>ItalAtlas</th>\n",
       "      <th>ItalArt</th>\n",
       "      <th>Florence</th>\n",
       "    </tr>\n",
       "  </thead>\n",
       "  <tbody>\n",
       "    <tr>\n",
       "      <th>ChildBks</th>\n",
       "      <td>1.000000</td>\n",
       "      <td>0.282861</td>\n",
       "      <td>0.301188</td>\n",
       "      <td>0.291107</td>\n",
       "      <td>0.299654</td>\n",
       "      <td>0.286600</td>\n",
       "      <td>0.354335</td>\n",
       "      <td>0.236039</td>\n",
       "      <td>0.137784</td>\n",
       "      <td>0.145903</td>\n",
       "      <td>0.016951</td>\n",
       "    </tr>\n",
       "    <tr>\n",
       "      <th>YouthBks</th>\n",
       "      <td>0.282861</td>\n",
       "      <td>1.000000</td>\n",
       "      <td>0.258884</td>\n",
       "      <td>0.235362</td>\n",
       "      <td>0.245061</td>\n",
       "      <td>0.224043</td>\n",
       "      <td>0.270534</td>\n",
       "      <td>0.225789</td>\n",
       "      <td>0.102410</td>\n",
       "      <td>0.118612</td>\n",
       "      <td>-0.010086</td>\n",
       "    </tr>\n",
       "    <tr>\n",
       "      <th>CookBks</th>\n",
       "      <td>0.301188</td>\n",
       "      <td>0.258884</td>\n",
       "      <td>1.000000</td>\n",
       "      <td>0.295996</td>\n",
       "      <td>0.295417</td>\n",
       "      <td>0.298061</td>\n",
       "      <td>0.332222</td>\n",
       "      <td>0.411127</td>\n",
       "      <td>0.134288</td>\n",
       "      <td>0.188908</td>\n",
       "      <td>0.004782</td>\n",
       "    </tr>\n",
       "    <tr>\n",
       "      <th>DoItYBks</th>\n",
       "      <td>0.291107</td>\n",
       "      <td>0.235362</td>\n",
       "      <td>0.295996</td>\n",
       "      <td>1.000000</td>\n",
       "      <td>0.243694</td>\n",
       "      <td>0.288585</td>\n",
       "      <td>0.271783</td>\n",
       "      <td>0.185612</td>\n",
       "      <td>0.100850</td>\n",
       "      <td>0.168864</td>\n",
       "      <td>0.006452</td>\n",
       "    </tr>\n",
       "    <tr>\n",
       "      <th>RefBks</th>\n",
       "      <td>0.299654</td>\n",
       "      <td>0.245061</td>\n",
       "      <td>0.295417</td>\n",
       "      <td>0.243694</td>\n",
       "      <td>1.000000</td>\n",
       "      <td>0.215347</td>\n",
       "      <td>0.279570</td>\n",
       "      <td>0.170150</td>\n",
       "      <td>0.375100</td>\n",
       "      <td>0.108833</td>\n",
       "      <td>0.060525</td>\n",
       "    </tr>\n",
       "    <tr>\n",
       "      <th>ArtBks</th>\n",
       "      <td>0.286600</td>\n",
       "      <td>0.224043</td>\n",
       "      <td>0.298061</td>\n",
       "      <td>0.288585</td>\n",
       "      <td>0.215347</td>\n",
       "      <td>1.000000</td>\n",
       "      <td>0.318979</td>\n",
       "      <td>0.214842</td>\n",
       "      <td>0.112509</td>\n",
       "      <td>0.400663</td>\n",
       "      <td>0.168036</td>\n",
       "    </tr>\n",
       "    <tr>\n",
       "      <th>GeogBks</th>\n",
       "      <td>0.354335</td>\n",
       "      <td>0.270534</td>\n",
       "      <td>0.332222</td>\n",
       "      <td>0.271783</td>\n",
       "      <td>0.279570</td>\n",
       "      <td>0.318979</td>\n",
       "      <td>1.000000</td>\n",
       "      <td>0.230431</td>\n",
       "      <td>0.121925</td>\n",
       "      <td>0.167805</td>\n",
       "      <td>0.090299</td>\n",
       "    </tr>\n",
       "    <tr>\n",
       "      <th>ItalCook</th>\n",
       "      <td>0.236039</td>\n",
       "      <td>0.225789</td>\n",
       "      <td>0.411127</td>\n",
       "      <td>0.185612</td>\n",
       "      <td>0.170150</td>\n",
       "      <td>0.214842</td>\n",
       "      <td>0.230431</td>\n",
       "      <td>1.000000</td>\n",
       "      <td>0.313992</td>\n",
       "      <td>0.469540</td>\n",
       "      <td>0.052560</td>\n",
       "    </tr>\n",
       "    <tr>\n",
       "      <th>ItalAtlas</th>\n",
       "      <td>0.137784</td>\n",
       "      <td>0.102410</td>\n",
       "      <td>0.134288</td>\n",
       "      <td>0.100850</td>\n",
       "      <td>0.375100</td>\n",
       "      <td>0.112509</td>\n",
       "      <td>0.121925</td>\n",
       "      <td>0.313992</td>\n",
       "      <td>1.000000</td>\n",
       "      <td>0.362652</td>\n",
       "      <td>0.042337</td>\n",
       "    </tr>\n",
       "    <tr>\n",
       "      <th>ItalArt</th>\n",
       "      <td>0.145903</td>\n",
       "      <td>0.118612</td>\n",
       "      <td>0.188908</td>\n",
       "      <td>0.168864</td>\n",
       "      <td>0.108833</td>\n",
       "      <td>0.400663</td>\n",
       "      <td>0.167805</td>\n",
       "      <td>0.469540</td>\n",
       "      <td>0.362652</td>\n",
       "      <td>1.000000</td>\n",
       "      <td>0.108331</td>\n",
       "    </tr>\n",
       "    <tr>\n",
       "      <th>Florence</th>\n",
       "      <td>0.016951</td>\n",
       "      <td>-0.010086</td>\n",
       "      <td>0.004782</td>\n",
       "      <td>0.006452</td>\n",
       "      <td>0.060525</td>\n",
       "      <td>0.168036</td>\n",
       "      <td>0.090299</td>\n",
       "      <td>0.052560</td>\n",
       "      <td>0.042337</td>\n",
       "      <td>0.108331</td>\n",
       "      <td>1.000000</td>\n",
       "    </tr>\n",
       "  </tbody>\n",
       "</table>\n",
       "</div>"
      ],
      "text/plain": [
       "           ChildBks  YouthBks   CookBks  DoItYBks    RefBks    ArtBks  \\\n",
       "ChildBks   1.000000  0.282861  0.301188  0.291107  0.299654  0.286600   \n",
       "YouthBks   0.282861  1.000000  0.258884  0.235362  0.245061  0.224043   \n",
       "CookBks    0.301188  0.258884  1.000000  0.295996  0.295417  0.298061   \n",
       "DoItYBks   0.291107  0.235362  0.295996  1.000000  0.243694  0.288585   \n",
       "RefBks     0.299654  0.245061  0.295417  0.243694  1.000000  0.215347   \n",
       "ArtBks     0.286600  0.224043  0.298061  0.288585  0.215347  1.000000   \n",
       "GeogBks    0.354335  0.270534  0.332222  0.271783  0.279570  0.318979   \n",
       "ItalCook   0.236039  0.225789  0.411127  0.185612  0.170150  0.214842   \n",
       "ItalAtlas  0.137784  0.102410  0.134288  0.100850  0.375100  0.112509   \n",
       "ItalArt    0.145903  0.118612  0.188908  0.168864  0.108833  0.400663   \n",
       "Florence   0.016951 -0.010086  0.004782  0.006452  0.060525  0.168036   \n",
       "\n",
       "            GeogBks  ItalCook  ItalAtlas   ItalArt  Florence  \n",
       "ChildBks   0.354335  0.236039   0.137784  0.145903  0.016951  \n",
       "YouthBks   0.270534  0.225789   0.102410  0.118612 -0.010086  \n",
       "CookBks    0.332222  0.411127   0.134288  0.188908  0.004782  \n",
       "DoItYBks   0.271783  0.185612   0.100850  0.168864  0.006452  \n",
       "RefBks     0.279570  0.170150   0.375100  0.108833  0.060525  \n",
       "ArtBks     0.318979  0.214842   0.112509  0.400663  0.168036  \n",
       "GeogBks    1.000000  0.230431   0.121925  0.167805  0.090299  \n",
       "ItalCook   0.230431  1.000000   0.313992  0.469540  0.052560  \n",
       "ItalAtlas  0.121925  0.313992   1.000000  0.362652  0.042337  \n",
       "ItalArt    0.167805  0.469540   0.362652  1.000000  0.108331  \n",
       "Florence   0.090299  0.052560   0.042337  0.108331  1.000000  "
      ]
     },
     "execution_count": 26,
     "metadata": {},
     "output_type": "execute_result"
    }
   ],
   "source": [
    "df.corr()"
   ]
  },
  {
   "cell_type": "code",
   "execution_count": 29,
   "id": "47dbe23b",
   "metadata": {},
   "outputs": [
    {
     "data": {
      "image/png": "[encoded data removed]",
      "text/plain": [
       "<Figure size 1008x504 with 2 Axes>"
      ]
     },
     "metadata": {
      "needs_background": "light"
     },
     "output_type": "display_data"
    }
   ],
   "source": [
    "plt.figure(figsize=(14,7))\n",
    "plt.title('Correlation between Variables',color='red',fontsize=18)\n",
    "sns.heatmap(data=df.corr(),annot=True)\n",
    "plt.show()"
   ]
  },
  {
   "cell_type": "markdown",
   "id": "176c7616",
   "metadata": {},
   "source": [
    "Apriori Algorithm"
   ]
  },
  {
   "cell_type": "code",
   "execution_count": 46,
   "id": "399d026e",
   "metadata": {},
   "outputs": [],
   "source": [
    "frequent_itemsets_ap = apriori(df, min_support= 0.1)"
   ]
  },
  {
   "cell_type": "code",
   "execution_count": 47,
   "id": "5efc0e45",
   "metadata": {},
   "outputs": [
    {
     "data": {
      "text/plain": [
       "39"
      ]
     },
     "execution_count": 47,
     "metadata": {},
     "output_type": "execute_result"
    }
   ],
   "source": [
    "len(frequent_itemsets_ap)"
   ]
  },
  {
   "cell_type": "code",
   "execution_count": 49,
   "id": "3ab87134",
   "metadata": {},
   "outputs": [
    {
     "name": "stdout",
     "output_type": "stream",
     "text": [
      "Processing 44 combinations | Sampling itemset size 4\n"
     ]
    },
    {
     "data": {
      "text/html": [
       "<div>\n",
       "<style scoped>\n",
       "    .dataframe tbody tr th:only-of-type {\n",
       "        vertical-align: middle;\n",
       "    }\n",
       "\n",
       "    .dataframe tbody tr th {\n",
       "        vertical-align: top;\n",
       "    }\n",
       "\n",
       "    .dataframe thead th {\n",
       "        text-align: right;\n",
       "    }\n",
       "</style>\n",
       "<table border=\"1\" class=\"dataframe\">\n",
       "  <thead>\n",
       "    <tr style=\"text-align: right;\">\n",
       "      <th></th>\n",
       "      <th>support</th>\n",
       "      <th>itemsets</th>\n",
       "    </tr>\n",
       "  </thead>\n",
       "  <tbody>\n",
       "    <tr>\n",
       "      <th>0</th>\n",
       "      <td>0.4230</td>\n",
       "      <td>(ChildBks)</td>\n",
       "    </tr>\n",
       "    <tr>\n",
       "      <th>1</th>\n",
       "      <td>0.2475</td>\n",
       "      <td>(YouthBks)</td>\n",
       "    </tr>\n",
       "    <tr>\n",
       "      <th>2</th>\n",
       "      <td>0.4310</td>\n",
       "      <td>(CookBks)</td>\n",
       "    </tr>\n",
       "    <tr>\n",
       "      <th>3</th>\n",
       "      <td>0.2820</td>\n",
       "      <td>(DoItYBks)</td>\n",
       "    </tr>\n",
       "    <tr>\n",
       "      <th>4</th>\n",
       "      <td>0.2145</td>\n",
       "      <td>(RefBks)</td>\n",
       "    </tr>\n",
       "    <tr>\n",
       "      <th>5</th>\n",
       "      <td>0.2410</td>\n",
       "      <td>(ArtBks)</td>\n",
       "    </tr>\n",
       "    <tr>\n",
       "      <th>6</th>\n",
       "      <td>0.2760</td>\n",
       "      <td>(GeogBks)</td>\n",
       "    </tr>\n",
       "    <tr>\n",
       "      <th>7</th>\n",
       "      <td>0.1135</td>\n",
       "      <td>(ItalCook)</td>\n",
       "    </tr>\n",
       "    <tr>\n",
       "      <th>8</th>\n",
       "      <td>0.1085</td>\n",
       "      <td>(Florence)</td>\n",
       "    </tr>\n",
       "    <tr>\n",
       "      <th>9</th>\n",
       "      <td>0.1650</td>\n",
       "      <td>(ChildBks, YouthBks)</td>\n",
       "    </tr>\n",
       "  </tbody>\n",
       "</table>\n",
       "</div>"
      ],
      "text/plain": [
       "   support              itemsets\n",
       "0   0.4230            (ChildBks)\n",
       "1   0.2475            (YouthBks)\n",
       "2   0.4310             (CookBks)\n",
       "3   0.2820            (DoItYBks)\n",
       "4   0.2145              (RefBks)\n",
       "5   0.2410              (ArtBks)\n",
       "6   0.2760             (GeogBks)\n",
       "7   0.1135            (ItalCook)\n",
       "8   0.1085            (Florence)\n",
       "9   0.1650  (ChildBks, YouthBks)"
      ]
     },
     "execution_count": 49,
     "metadata": {},
     "output_type": "execute_result"
    }
   ],
   "source": [
    "frequent_itemsets_ap = apriori(df,min_support=0.1,use_colnames= True,verbose=1)\n",
    "frequent_itemsets_ap.head(10)"
   ]
  },
  {
   "cell_type": "code",
   "execution_count": 50,
   "id": "4bdc2216",
   "metadata": {},
   "outputs": [
    {
     "data": {
      "text/html": [
       "<div>\n",
       "<style scoped>\n",
       "    .dataframe tbody tr th:only-of-type {\n",
       "        vertical-align: middle;\n",
       "    }\n",
       "\n",
       "    .dataframe tbody tr th {\n",
       "        vertical-align: top;\n",
       "    }\n",
       "\n",
       "    .dataframe thead th {\n",
       "        text-align: right;\n",
       "    }\n",
       "</style>\n",
       "<table border=\"1\" class=\"dataframe\">\n",
       "  <thead>\n",
       "    <tr style=\"text-align: right;\">\n",
       "      <th></th>\n",
       "      <th>support</th>\n",
       "      <th>itemsets</th>\n",
       "    </tr>\n",
       "  </thead>\n",
       "  <tbody>\n",
       "    <tr>\n",
       "      <th>2</th>\n",
       "      <td>0.431</td>\n",
       "      <td>(CookBks)</td>\n",
       "    </tr>\n",
       "    <tr>\n",
       "      <th>0</th>\n",
       "      <td>0.423</td>\n",
       "      <td>(ChildBks)</td>\n",
       "    </tr>\n",
       "    <tr>\n",
       "      <th>3</th>\n",
       "      <td>0.282</td>\n",
       "      <td>(DoItYBks)</td>\n",
       "    </tr>\n",
       "    <tr>\n",
       "      <th>6</th>\n",
       "      <td>0.276</td>\n",
       "      <td>(GeogBks)</td>\n",
       "    </tr>\n",
       "    <tr>\n",
       "      <th>10</th>\n",
       "      <td>0.256</td>\n",
       "      <td>(CookBks, ChildBks)</td>\n",
       "    </tr>\n",
       "  </tbody>\n",
       "</table>\n",
       "</div>"
      ],
      "text/plain": [
       "    support             itemsets\n",
       "2     0.431            (CookBks)\n",
       "0     0.423           (ChildBks)\n",
       "3     0.282           (DoItYBks)\n",
       "6     0.276            (GeogBks)\n",
       "10    0.256  (CookBks, ChildBks)"
      ]
     },
     "execution_count": 50,
     "metadata": {},
     "output_type": "execute_result"
    }
   ],
   "source": [
    "frequent_itemsets_ap.sort_values(\"support\",ascending=False).head()"
   ]
  },
  {
   "cell_type": "code",
   "execution_count": 51,
   "id": "4ef9e782",
   "metadata": {},
   "outputs": [
    {
     "data": {
      "text/html": [
       "<div>\n",
       "<style scoped>\n",
       "    .dataframe tbody tr th:only-of-type {\n",
       "        vertical-align: middle;\n",
       "    }\n",
       "\n",
       "    .dataframe tbody tr th {\n",
       "        vertical-align: top;\n",
       "    }\n",
       "\n",
       "    .dataframe thead th {\n",
       "        text-align: right;\n",
       "    }\n",
       "</style>\n",
       "<table border=\"1\" class=\"dataframe\">\n",
       "  <thead>\n",
       "    <tr style=\"text-align: right;\">\n",
       "      <th></th>\n",
       "      <th>antecedents</th>\n",
       "      <th>consequents</th>\n",
       "      <th>antecedent support</th>\n",
       "      <th>consequent support</th>\n",
       "      <th>support</th>\n",
       "      <th>confidence</th>\n",
       "      <th>lift</th>\n",
       "      <th>leverage</th>\n",
       "      <th>conviction</th>\n",
       "    </tr>\n",
       "  </thead>\n",
       "  <tbody>\n",
       "    <tr>\n",
       "      <th>0</th>\n",
       "      <td>(YouthBks)</td>\n",
       "      <td>(ChildBks)</td>\n",
       "      <td>0.2475</td>\n",
       "      <td>0.423</td>\n",
       "      <td>0.165</td>\n",
       "      <td>0.666667</td>\n",
       "      <td>1.576044</td>\n",
       "      <td>0.060308</td>\n",
       "      <td>1.731000</td>\n",
       "    </tr>\n",
       "    <tr>\n",
       "      <th>1</th>\n",
       "      <td>(CookBks)</td>\n",
       "      <td>(ChildBks)</td>\n",
       "      <td>0.4310</td>\n",
       "      <td>0.423</td>\n",
       "      <td>0.256</td>\n",
       "      <td>0.593968</td>\n",
       "      <td>1.404179</td>\n",
       "      <td>0.073687</td>\n",
       "      <td>1.421069</td>\n",
       "    </tr>\n",
       "    <tr>\n",
       "      <th>2</th>\n",
       "      <td>(ChildBks)</td>\n",
       "      <td>(CookBks)</td>\n",
       "      <td>0.4230</td>\n",
       "      <td>0.431</td>\n",
       "      <td>0.256</td>\n",
       "      <td>0.605201</td>\n",
       "      <td>1.404179</td>\n",
       "      <td>0.073687</td>\n",
       "      <td>1.441240</td>\n",
       "    </tr>\n",
       "    <tr>\n",
       "      <th>3</th>\n",
       "      <td>(DoItYBks)</td>\n",
       "      <td>(ChildBks)</td>\n",
       "      <td>0.2820</td>\n",
       "      <td>0.423</td>\n",
       "      <td>0.184</td>\n",
       "      <td>0.652482</td>\n",
       "      <td>1.542511</td>\n",
       "      <td>0.064714</td>\n",
       "      <td>1.660347</td>\n",
       "    </tr>\n",
       "    <tr>\n",
       "      <th>4</th>\n",
       "      <td>(ChildBks)</td>\n",
       "      <td>(DoItYBks)</td>\n",
       "      <td>0.4230</td>\n",
       "      <td>0.282</td>\n",
       "      <td>0.184</td>\n",
       "      <td>0.434988</td>\n",
       "      <td>1.542511</td>\n",
       "      <td>0.064714</td>\n",
       "      <td>1.270770</td>\n",
       "    </tr>\n",
       "  </tbody>\n",
       "</table>\n",
       "</div>"
      ],
      "text/plain": [
       "  antecedents consequents  antecedent support  consequent support  support  \\\n",
       "0  (YouthBks)  (ChildBks)              0.2475               0.423    0.165   \n",
       "1   (CookBks)  (ChildBks)              0.4310               0.423    0.256   \n",
       "2  (ChildBks)   (CookBks)              0.4230               0.431    0.256   \n",
       "3  (DoItYBks)  (ChildBks)              0.2820               0.423    0.184   \n",
       "4  (ChildBks)  (DoItYBks)              0.4230               0.282    0.184   \n",
       "\n",
       "   confidence      lift  leverage  conviction  \n",
       "0    0.666667  1.576044  0.060308    1.731000  \n",
       "1    0.593968  1.404179  0.073687    1.421069  \n",
       "2    0.605201  1.404179  0.073687    1.441240  \n",
       "3    0.652482  1.542511  0.064714    1.660347  \n",
       "4    0.434988  1.542511  0.064714    1.270770  "
      ]
     },
     "execution_count": 51,
     "metadata": {},
     "output_type": "execute_result"
    }
   ],
   "source": [
    "rules_ap = association_rules(frequent_itemsets_ap,metric=\"confidence\",min_threshold=0.4)\n",
    "rules_ap.head()"
   ]
  },
  {
   "cell_type": "code",
   "execution_count": 52,
   "id": "3a9e2059",
   "metadata": {},
   "outputs": [
    {
     "data": {
      "text/plain": [
       "(70, 9)"
      ]
     },
     "execution_count": 52,
     "metadata": {},
     "output_type": "execute_result"
    }
   ],
   "source": [
    "rules_ap[(rules_ap.support>0.015) & (rules_ap.confidence>0.4)].sort_values(\"confidence\",ascending=False).shape"
   ]
  },
  {
   "cell_type": "code",
   "execution_count": 54,
   "id": "a7ae04a1",
   "metadata": {},
   "outputs": [
    {
     "data": {
      "text/html": [
       "<div>\n",
       "<style scoped>\n",
       "    .dataframe tbody tr th:only-of-type {\n",
       "        vertical-align: middle;\n",
       "    }\n",
       "\n",
       "    .dataframe tbody tr th {\n",
       "        vertical-align: top;\n",
       "    }\n",
       "\n",
       "    .dataframe thead th {\n",
       "        text-align: right;\n",
       "    }\n",
       "</style>\n",
       "<table border=\"1\" class=\"dataframe\">\n",
       "  <thead>\n",
       "    <tr style=\"text-align: right;\">\n",
       "      <th></th>\n",
       "      <th>antecedents</th>\n",
       "      <th>consequents</th>\n",
       "      <th>antecedent support</th>\n",
       "      <th>consequent support</th>\n",
       "      <th>support</th>\n",
       "      <th>confidence</th>\n",
       "      <th>lift</th>\n",
       "      <th>leverage</th>\n",
       "      <th>conviction</th>\n",
       "      <th>lhs items</th>\n",
       "    </tr>\n",
       "  </thead>\n",
       "  <tbody>\n",
       "    <tr>\n",
       "      <th>57</th>\n",
       "      <td>(ArtBks, ChildBks)</td>\n",
       "      <td>(GeogBks)</td>\n",
       "      <td>0.1625</td>\n",
       "      <td>0.2760</td>\n",
       "      <td>0.1020</td>\n",
       "      <td>0.627692</td>\n",
       "      <td>2.274247</td>\n",
       "      <td>0.057150</td>\n",
       "      <td>1.944628</td>\n",
       "      <td>2</td>\n",
       "    </tr>\n",
       "    <tr>\n",
       "      <th>60</th>\n",
       "      <td>(DoItYBks, CookBks)</td>\n",
       "      <td>(ArtBks)</td>\n",
       "      <td>0.1875</td>\n",
       "      <td>0.2410</td>\n",
       "      <td>0.1015</td>\n",
       "      <td>0.541333</td>\n",
       "      <td>2.246196</td>\n",
       "      <td>0.056313</td>\n",
       "      <td>1.654797</td>\n",
       "      <td>2</td>\n",
       "    </tr>\n",
       "    <tr>\n",
       "      <th>68</th>\n",
       "      <td>(ArtBks, CookBks)</td>\n",
       "      <td>(GeogBks)</td>\n",
       "      <td>0.1670</td>\n",
       "      <td>0.2760</td>\n",
       "      <td>0.1035</td>\n",
       "      <td>0.619760</td>\n",
       "      <td>2.245509</td>\n",
       "      <td>0.057408</td>\n",
       "      <td>1.904063</td>\n",
       "      <td>2</td>\n",
       "    </tr>\n",
       "    <tr>\n",
       "      <th>67</th>\n",
       "      <td>(GeogBks, CookBks)</td>\n",
       "      <td>(ArtBks)</td>\n",
       "      <td>0.1925</td>\n",
       "      <td>0.2410</td>\n",
       "      <td>0.1035</td>\n",
       "      <td>0.537662</td>\n",
       "      <td>2.230964</td>\n",
       "      <td>0.057107</td>\n",
       "      <td>1.641657</td>\n",
       "      <td>2</td>\n",
       "    </tr>\n",
       "    <tr>\n",
       "      <th>42</th>\n",
       "      <td>(CookBks, ChildBks)</td>\n",
       "      <td>(RefBks)</td>\n",
       "      <td>0.2560</td>\n",
       "      <td>0.2145</td>\n",
       "      <td>0.1225</td>\n",
       "      <td>0.478516</td>\n",
       "      <td>2.230842</td>\n",
       "      <td>0.067588</td>\n",
       "      <td>1.506277</td>\n",
       "      <td>2</td>\n",
       "    </tr>\n",
       "  </tbody>\n",
       "</table>\n",
       "</div>"
      ],
      "text/plain": [
       "            antecedents consequents  antecedent support  consequent support  \\\n",
       "57   (ArtBks, ChildBks)   (GeogBks)              0.1625              0.2760   \n",
       "60  (DoItYBks, CookBks)    (ArtBks)              0.1875              0.2410   \n",
       "68    (ArtBks, CookBks)   (GeogBks)              0.1670              0.2760   \n",
       "67   (GeogBks, CookBks)    (ArtBks)              0.1925              0.2410   \n",
       "42  (CookBks, ChildBks)    (RefBks)              0.2560              0.2145   \n",
       "\n",
       "    support  confidence      lift  leverage  conviction  lhs items  \n",
       "57   0.1020    0.627692  2.274247  0.057150    1.944628          2  \n",
       "60   0.1015    0.541333  2.246196  0.056313    1.654797          2  \n",
       "68   0.1035    0.619760  2.245509  0.057408    1.904063          2  \n",
       "67   0.1035    0.537662  2.230964  0.057107    1.641657          2  \n",
       "42   0.1225    0.478516  2.230842  0.067588    1.506277          2  "
      ]
     },
     "execution_count": 54,
     "metadata": {},
     "output_type": "execute_result"
    }
   ],
   "source": [
    "rules_ap['lhs items'] = rules_ap['antecedents'].apply(lambda x:len(x))\n",
    "rules_ap[rules_ap['lhs items']>1].sort_values('lift',ascending=False).head()"
   ]
  },
  {
   "cell_type": "markdown",
   "id": "b738dbc8",
   "metadata": {},
   "source": [
    "# Replace Frozen sets with strings¶"
   ]
  },
  {
   "cell_type": "code",
   "execution_count": 55,
   "id": "8c1b05c5",
   "metadata": {},
   "outputs": [],
   "source": [
    "rules_ap['antecedents_'] = rules_ap['antecedents'].apply(lambda a: ','.join(list(a)))\n",
    "rules_ap['consequents_'] = rules_ap['consequents'].apply(lambda a: ','.join(list(a)))"
   ]
  },
  {
   "cell_type": "markdown",
   "id": "9785a905",
   "metadata": {},
   "source": [
    "Transform the DataFrame of rules into a matrix using the confidence metric"
   ]
  },
  {
   "cell_type": "code",
   "execution_count": 56,
   "id": "b13cc36c",
   "metadata": {},
   "outputs": [],
   "source": [
    "pivot = rules_ap[rules_ap['lhs items']>1].pivot(index='antecedents_',\n",
    "                 columns='consequents_',values='confidence')"
   ]
  },
  {
   "cell_type": "markdown",
   "id": "abc65f29",
   "metadata": {},
   "source": [
    "Creating a heatmap with annotations"
   ]
  },
  {
   "cell_type": "code",
   "execution_count": 58,
   "id": "961ae2c0",
   "metadata": {},
   "outputs": [
    {
     "data": {
      "image/png": "[encoded data removed]",
      "text/plain": [
       "<Figure size 864x432 with 2 Axes>"
      ]
     },
     "metadata": {
      "needs_background": "light"
     },
     "output_type": "display_data"
    }
   ],
   "source": [
    "plt.figure(figsize=(12,6))\n",
    "sns.heatmap(pivot,annot = True)\n",
    "plt.title('Heat Map - For Confidence Metric',color='red',fontsize=24)\n",
    "plt.xlabel('consequents_',color='red',fontsize=18)\n",
    "plt.ylabel('antecedents_',color='red',fontsize=18)\n",
    "plt.xticks(rotation=90)\n",
    "plt.yticks(rotation=0)\n",
    "plt.show()"
   ]
  },
  {
   "cell_type": "code",
   "execution_count": 59,
   "id": "25b854d6",
   "metadata": {},
   "outputs": [
    {
     "data": {
      "text/plain": [
       "(100, 9)"
      ]
     },
     "execution_count": 59,
     "metadata": {},
     "output_type": "execute_result"
    }
   ],
   "source": [
    "rules_ap_li = association_rules(frequent_itemsets_ap,metric=\"lift\",min_threshold=0.6)\n",
    "rules_ap_li.shape"
   ]
  },
  {
   "cell_type": "code",
   "execution_count": 60,
   "id": "5768a2d9",
   "metadata": {},
   "outputs": [
    {
     "data": {
      "text/html": [
       "<div>\n",
       "<style scoped>\n",
       "    .dataframe tbody tr th:only-of-type {\n",
       "        vertical-align: middle;\n",
       "    }\n",
       "\n",
       "    .dataframe tbody tr th {\n",
       "        vertical-align: top;\n",
       "    }\n",
       "\n",
       "    .dataframe thead th {\n",
       "        text-align: right;\n",
       "    }\n",
       "</style>\n",
       "<table border=\"1\" class=\"dataframe\">\n",
       "  <thead>\n",
       "    <tr style=\"text-align: right;\">\n",
       "      <th></th>\n",
       "      <th>antecedents</th>\n",
       "      <th>consequents</th>\n",
       "      <th>antecedent support</th>\n",
       "      <th>consequent support</th>\n",
       "      <th>support</th>\n",
       "      <th>confidence</th>\n",
       "      <th>lift</th>\n",
       "      <th>leverage</th>\n",
       "      <th>conviction</th>\n",
       "      <th>lhs items</th>\n",
       "    </tr>\n",
       "  </thead>\n",
       "  <tbody>\n",
       "    <tr>\n",
       "      <th>78</th>\n",
       "      <td>(ArtBks, ChildBks)</td>\n",
       "      <td>(GeogBks)</td>\n",
       "      <td>0.1625</td>\n",
       "      <td>0.2760</td>\n",
       "      <td>0.1020</td>\n",
       "      <td>0.627692</td>\n",
       "      <td>2.274247</td>\n",
       "      <td>0.057150</td>\n",
       "      <td>1.944628</td>\n",
       "      <td>2</td>\n",
       "    </tr>\n",
       "    <tr>\n",
       "      <th>83</th>\n",
       "      <td>(DoItYBks, CookBks)</td>\n",
       "      <td>(ArtBks)</td>\n",
       "      <td>0.1875</td>\n",
       "      <td>0.2410</td>\n",
       "      <td>0.1015</td>\n",
       "      <td>0.541333</td>\n",
       "      <td>2.246196</td>\n",
       "      <td>0.056313</td>\n",
       "      <td>1.654797</td>\n",
       "      <td>2</td>\n",
       "    </tr>\n",
       "    <tr>\n",
       "      <th>96</th>\n",
       "      <td>(ArtBks, CookBks)</td>\n",
       "      <td>(GeogBks)</td>\n",
       "      <td>0.1670</td>\n",
       "      <td>0.2760</td>\n",
       "      <td>0.1035</td>\n",
       "      <td>0.619760</td>\n",
       "      <td>2.245509</td>\n",
       "      <td>0.057408</td>\n",
       "      <td>1.904063</td>\n",
       "      <td>2</td>\n",
       "    </tr>\n",
       "    <tr>\n",
       "      <th>95</th>\n",
       "      <td>(GeogBks, CookBks)</td>\n",
       "      <td>(ArtBks)</td>\n",
       "      <td>0.1925</td>\n",
       "      <td>0.2410</td>\n",
       "      <td>0.1035</td>\n",
       "      <td>0.537662</td>\n",
       "      <td>2.230964</td>\n",
       "      <td>0.057107</td>\n",
       "      <td>1.641657</td>\n",
       "      <td>2</td>\n",
       "    </tr>\n",
       "    <tr>\n",
       "      <th>54</th>\n",
       "      <td>(CookBks, ChildBks)</td>\n",
       "      <td>(RefBks)</td>\n",
       "      <td>0.2560</td>\n",
       "      <td>0.2145</td>\n",
       "      <td>0.1225</td>\n",
       "      <td>0.478516</td>\n",
       "      <td>2.230842</td>\n",
       "      <td>0.067588</td>\n",
       "      <td>1.506277</td>\n",
       "      <td>2</td>\n",
       "    </tr>\n",
       "  </tbody>\n",
       "</table>\n",
       "</div>"
      ],
      "text/plain": [
       "            antecedents consequents  antecedent support  consequent support  \\\n",
       "78   (ArtBks, ChildBks)   (GeogBks)              0.1625              0.2760   \n",
       "83  (DoItYBks, CookBks)    (ArtBks)              0.1875              0.2410   \n",
       "96    (ArtBks, CookBks)   (GeogBks)              0.1670              0.2760   \n",
       "95   (GeogBks, CookBks)    (ArtBks)              0.1925              0.2410   \n",
       "54  (CookBks, ChildBks)    (RefBks)              0.2560              0.2145   \n",
       "\n",
       "    support  confidence      lift  leverage  conviction  lhs items  \n",
       "78   0.1020    0.627692  2.274247  0.057150    1.944628          2  \n",
       "83   0.1015    0.541333  2.246196  0.056313    1.654797          2  \n",
       "96   0.1035    0.619760  2.245509  0.057408    1.904063          2  \n",
       "95   0.1035    0.537662  2.230964  0.057107    1.641657          2  \n",
       "54   0.1225    0.478516  2.230842  0.067588    1.506277          2  "
      ]
     },
     "execution_count": 60,
     "metadata": {},
     "output_type": "execute_result"
    }
   ],
   "source": [
    "rules_ap_li['lhs items'] = rules_ap_li['antecedents'].apply(lambda x:len(x))\n",
    "rules_ap_li[rules_ap_li['lhs items']>1].sort_values('lift',ascending=False).head()"
   ]
  },
  {
   "cell_type": "markdown",
   "id": "18685974",
   "metadata": {},
   "source": [
    "Replace Frozen sets with strings"
   ]
  },
  {
   "cell_type": "code",
   "execution_count": 61,
   "id": "c51bdefa",
   "metadata": {},
   "outputs": [],
   "source": [
    "rules_ap_li['antecedents_'] = rules_ap_li['antecedents'].apply(lambda a: ','.join(list(a)))\n",
    "rules_ap_li['consequents_'] = rules_ap_li['consequents'].apply(lambda a: ','.join(list(a)))"
   ]
  },
  {
   "cell_type": "markdown",
   "id": "3f94919b",
   "metadata": {},
   "source": [
    "Transform the DataFrame of Rules into a Matrix using the lift metric¶"
   ]
  },
  {
   "cell_type": "code",
   "execution_count": 62,
   "id": "b9a33b5d",
   "metadata": {},
   "outputs": [],
   "source": [
    "pivot = rules_ap_li[rules_ap_li['lhs items']>1].pivot(index = 'antecedents_',\n",
    "                                                      columns='consequents_', values='lift')"
   ]
  },
  {
   "cell_type": "markdown",
   "id": "0f240abc",
   "metadata": {},
   "source": [
    "# Creating a Heatmap with annotations ON and the colorbar OFF"
   ]
  },
  {
   "cell_type": "code",
   "execution_count": 63,
   "id": "eae06e71",
   "metadata": {},
   "outputs": [
    {
     "data": {
      "image/png": "[encoded data removed]",
      "text/plain": [
       "<Figure size 864x432 with 2 Axes>"
      ]
     },
     "metadata": {
      "needs_background": "light"
     },
     "output_type": "display_data"
    }
   ],
   "source": [
    "plt.figure(figsize=(12,6))\n",
    "sns.heatmap(pivot,annot = True)\n",
    "plt.title('Heat Map - For Lift Metric',color='red',fontsize=24)\n",
    "plt.xticks(rotation=90)\n",
    "plt.yticks(rotation=0)\n",
    "plt.xlabel('consequents_',color='red',fontsize=18)\n",
    "plt.ylabel('antecedents_',color='red',fontsize=18)\n",
    "plt.show()"
   ]
  },
  {
   "cell_type": "markdown",
   "id": "a1864df9",
   "metadata": {},
   "source": [
    "# FpGrowth Algorithm"
   ]
  },
  {
   "cell_type": "code",
   "execution_count": 65,
   "id": "f5285d39",
   "metadata": {},
   "outputs": [
    {
     "name": "stdout",
     "output_type": "stream",
     "text": [
      "9 itemset(s) from tree conditioned on items ()\n",
      "2 itemset(s) from tree conditioned on items (DoItYBks)\n",
      "1 itemset(s) from tree conditioned on items (DoItYBks, ChildBks)\n",
      "0 itemset(s) from tree conditioned on items (DoItYBks, CookBks)\n",
      "3 itemset(s) from tree conditioned on items (GeogBks)\n",
      "2 itemset(s) from tree conditioned on items (GeogBks, DoItYBks)\n",
      "0 itemset(s) from tree conditioned on items (GeogBks, DoItYBks, CookBks)\n",
      "0 itemset(s) from tree conditioned on items (GeogBks, DoItYBks, ChildBks)\n",
      "0 itemset(s) from tree conditioned on items (GeogBks, ChildBks)\n",
      "1 itemset(s) from tree conditioned on items (GeogBks, CookBks)\n",
      "4 itemset(s) from tree conditioned on items (YouthBks)\n",
      "0 itemset(s) from tree conditioned on items (YouthBks, GeogBks)\n",
      "0 itemset(s) from tree conditioned on items (YouthBks, DoItYBks)\n",
      "0 itemset(s) from tree conditioned on items (YouthBks, ChildBks)\n",
      "1 itemset(s) from tree conditioned on items (YouthBks, CookBks)\n",
      "1 itemset(s) from tree conditioned on items (ChildBks)\n",
      "0 itemset(s) from tree conditioned on items (CookBks)\n",
      "4 itemset(s) from tree conditioned on items (RefBks)\n",
      "0 itemset(s) from tree conditioned on items (RefBks, CookBks)\n",
      "1 itemset(s) from tree conditioned on items (RefBks, ChildBks)\n",
      "0 itemset(s) from tree conditioned on items (RefBks, GeogBks)\n",
      "0 itemset(s) from tree conditioned on items (RefBks, DoItYBks)\n",
      "5 itemset(s) from tree conditioned on items (ArtBks)\n",
      "1 itemset(s) from tree conditioned on items (ArtBks, ChildBks)\n",
      "1 itemset(s) from tree conditioned on items (ArtBks, DoItYBks)\n",
      "0 itemset(s) from tree conditioned on items (ArtBks, YouthBks)\n",
      "0 itemset(s) from tree conditioned on items (ArtBks, CookBks)\n",
      "2 itemset(s) from tree conditioned on items (ArtBks, GeogBks)\n",
      "0 itemset(s) from tree conditioned on items (ArtBks, GeogBks, CookBks)\n",
      "0 itemset(s) from tree conditioned on items (ArtBks, GeogBks, ChildBks)\n",
      "0 itemset(s) from tree conditioned on items (Florence)\n",
      "1 itemset(s) from tree conditioned on items (ItalCook)\n"
     ]
    },
    {
     "data": {
      "text/plain": [
       "(39, 2)"
      ]
     },
     "execution_count": 65,
     "metadata": {},
     "output_type": "execute_result"
    }
   ],
   "source": [
    "frequent_itemsets_fp=fpgrowth(df, min_support=0.1,use_colnames=True,verbose=1)\n",
    "frequent_itemsets_fp.shape"
   ]
  },
  {
   "cell_type": "code",
   "execution_count": 66,
   "id": "1ddce098",
   "metadata": {},
   "outputs": [
    {
     "data": {
      "text/html": [
       "<div>\n",
       "<style scoped>\n",
       "    .dataframe tbody tr th:only-of-type {\n",
       "        vertical-align: middle;\n",
       "    }\n",
       "\n",
       "    .dataframe tbody tr th {\n",
       "        vertical-align: top;\n",
       "    }\n",
       "\n",
       "    .dataframe thead th {\n",
       "        text-align: right;\n",
       "    }\n",
       "</style>\n",
       "<table border=\"1\" class=\"dataframe\">\n",
       "  <thead>\n",
       "    <tr style=\"text-align: right;\">\n",
       "      <th></th>\n",
       "      <th>support</th>\n",
       "      <th>itemsets</th>\n",
       "    </tr>\n",
       "  </thead>\n",
       "  <tbody>\n",
       "    <tr>\n",
       "      <th>4</th>\n",
       "      <td>0.431</td>\n",
       "      <td>(CookBks)</td>\n",
       "    </tr>\n",
       "    <tr>\n",
       "      <th>3</th>\n",
       "      <td>0.423</td>\n",
       "      <td>(ChildBks)</td>\n",
       "    </tr>\n",
       "    <tr>\n",
       "      <th>0</th>\n",
       "      <td>0.282</td>\n",
       "      <td>(DoItYBks)</td>\n",
       "    </tr>\n",
       "    <tr>\n",
       "      <th>1</th>\n",
       "      <td>0.276</td>\n",
       "      <td>(GeogBks)</td>\n",
       "    </tr>\n",
       "    <tr>\n",
       "      <th>23</th>\n",
       "      <td>0.256</td>\n",
       "      <td>(CookBks, ChildBks)</td>\n",
       "    </tr>\n",
       "  </tbody>\n",
       "</table>\n",
       "</div>"
      ],
      "text/plain": [
       "    support             itemsets\n",
       "4     0.431            (CookBks)\n",
       "3     0.423           (ChildBks)\n",
       "0     0.282           (DoItYBks)\n",
       "1     0.276            (GeogBks)\n",
       "23    0.256  (CookBks, ChildBks)"
      ]
     },
     "execution_count": 66,
     "metadata": {},
     "output_type": "execute_result"
    }
   ],
   "source": [
    "frequent_itemsets_fp.sort_values(\"support\",ascending=False).head()"
   ]
  },
  {
   "cell_type": "code",
   "execution_count": 67,
   "id": "2d326e4d",
   "metadata": {},
   "outputs": [
    {
     "data": {
      "text/plain": [
       "(49, 9)"
      ]
     },
     "execution_count": 67,
     "metadata": {},
     "output_type": "execute_result"
    }
   ],
   "source": [
    "rules_fp = association_rules(frequent_itemsets_fp,metric='confidence',min_threshold=0.5)\n",
    "rules_fp.shape"
   ]
  },
  {
   "cell_type": "code",
   "execution_count": 68,
   "id": "8ae94898",
   "metadata": {},
   "outputs": [
    {
     "data": {
      "text/html": [
       "<div>\n",
       "<style scoped>\n",
       "    .dataframe tbody tr th:only-of-type {\n",
       "        vertical-align: middle;\n",
       "    }\n",
       "\n",
       "    .dataframe tbody tr th {\n",
       "        vertical-align: top;\n",
       "    }\n",
       "\n",
       "    .dataframe thead th {\n",
       "        text-align: right;\n",
       "    }\n",
       "</style>\n",
       "<table border=\"1\" class=\"dataframe\">\n",
       "  <thead>\n",
       "    <tr style=\"text-align: right;\">\n",
       "      <th></th>\n",
       "      <th>antecedents</th>\n",
       "      <th>consequents</th>\n",
       "      <th>antecedent support</th>\n",
       "      <th>consequent support</th>\n",
       "      <th>support</th>\n",
       "      <th>confidence</th>\n",
       "      <th>lift</th>\n",
       "      <th>leverage</th>\n",
       "      <th>conviction</th>\n",
       "    </tr>\n",
       "  </thead>\n",
       "  <tbody>\n",
       "    <tr>\n",
       "      <th>26</th>\n",
       "      <td>(RefBks)</td>\n",
       "      <td>(CookBks)</td>\n",
       "      <td>0.2145</td>\n",
       "      <td>0.431</td>\n",
       "      <td>0.1525</td>\n",
       "      <td>0.710956</td>\n",
       "      <td>1.649549</td>\n",
       "      <td>0.060050</td>\n",
       "      <td>1.968556</td>\n",
       "    </tr>\n",
       "    <tr>\n",
       "      <th>6</th>\n",
       "      <td>(GeogBks)</td>\n",
       "      <td>(ChildBks)</td>\n",
       "      <td>0.2760</td>\n",
       "      <td>0.423</td>\n",
       "      <td>0.1950</td>\n",
       "      <td>0.706522</td>\n",
       "      <td>1.670264</td>\n",
       "      <td>0.078252</td>\n",
       "      <td>1.966074</td>\n",
       "    </tr>\n",
       "    <tr>\n",
       "      <th>27</th>\n",
       "      <td>(RefBks)</td>\n",
       "      <td>(ChildBks)</td>\n",
       "      <td>0.2145</td>\n",
       "      <td>0.423</td>\n",
       "      <td>0.1515</td>\n",
       "      <td>0.706294</td>\n",
       "      <td>1.669725</td>\n",
       "      <td>0.060767</td>\n",
       "      <td>1.964548</td>\n",
       "    </tr>\n",
       "    <tr>\n",
       "      <th>7</th>\n",
       "      <td>(GeogBks)</td>\n",
       "      <td>(CookBks)</td>\n",
       "      <td>0.2760</td>\n",
       "      <td>0.431</td>\n",
       "      <td>0.1925</td>\n",
       "      <td>0.697464</td>\n",
       "      <td>1.618245</td>\n",
       "      <td>0.073544</td>\n",
       "      <td>1.880766</td>\n",
       "    </tr>\n",
       "    <tr>\n",
       "      <th>34</th>\n",
       "      <td>(ArtBks)</td>\n",
       "      <td>(CookBks)</td>\n",
       "      <td>0.2410</td>\n",
       "      <td>0.431</td>\n",
       "      <td>0.1670</td>\n",
       "      <td>0.692946</td>\n",
       "      <td>1.607763</td>\n",
       "      <td>0.063129</td>\n",
       "      <td>1.853095</td>\n",
       "    </tr>\n",
       "  </tbody>\n",
       "</table>\n",
       "</div>"
      ],
      "text/plain": [
       "   antecedents consequents  antecedent support  consequent support  support  \\\n",
       "26    (RefBks)   (CookBks)              0.2145               0.431   0.1525   \n",
       "6    (GeogBks)  (ChildBks)              0.2760               0.423   0.1950   \n",
       "27    (RefBks)  (ChildBks)              0.2145               0.423   0.1515   \n",
       "7    (GeogBks)   (CookBks)              0.2760               0.431   0.1925   \n",
       "34    (ArtBks)   (CookBks)              0.2410               0.431   0.1670   \n",
       "\n",
       "    confidence      lift  leverage  conviction  \n",
       "26    0.710956  1.649549  0.060050    1.968556  \n",
       "6     0.706522  1.670264  0.078252    1.966074  \n",
       "27    0.706294  1.669725  0.060767    1.964548  \n",
       "7     0.697464  1.618245  0.073544    1.880766  \n",
       "34    0.692946  1.607763  0.063129    1.853095  "
      ]
     },
     "execution_count": 68,
     "metadata": {},
     "output_type": "execute_result"
    }
   ],
   "source": [
    "rules_fp[(rules_fp.support>0.15) & (rules_fp.confidence>0.4)].sort_values(\"confidence\",ascending=False).head()"
   ]
  },
  {
   "cell_type": "code",
   "execution_count": 69,
   "id": "8fa50bd0",
   "metadata": {},
   "outputs": [
    {
     "data": {
      "text/html": [
       "<div>\n",
       "<style scoped>\n",
       "    .dataframe tbody tr th:only-of-type {\n",
       "        vertical-align: middle;\n",
       "    }\n",
       "\n",
       "    .dataframe tbody tr th {\n",
       "        vertical-align: top;\n",
       "    }\n",
       "\n",
       "    .dataframe thead th {\n",
       "        text-align: right;\n",
       "    }\n",
       "</style>\n",
       "<table border=\"1\" class=\"dataframe\">\n",
       "  <thead>\n",
       "    <tr style=\"text-align: right;\">\n",
       "      <th></th>\n",
       "      <th>antecedents</th>\n",
       "      <th>consequents</th>\n",
       "      <th>antecedent support</th>\n",
       "      <th>consequent support</th>\n",
       "      <th>support</th>\n",
       "      <th>confidence</th>\n",
       "      <th>lift</th>\n",
       "      <th>leverage</th>\n",
       "      <th>conviction</th>\n",
       "      <th>lhs item</th>\n",
       "    </tr>\n",
       "  </thead>\n",
       "  <tbody>\n",
       "    <tr>\n",
       "      <th>47</th>\n",
       "      <td>(ArtBks, ChildBks)</td>\n",
       "      <td>(GeogBks)</td>\n",
       "      <td>0.1625</td>\n",
       "      <td>0.276</td>\n",
       "      <td>0.1020</td>\n",
       "      <td>0.627692</td>\n",
       "      <td>2.274247</td>\n",
       "      <td>0.057150</td>\n",
       "      <td>1.944628</td>\n",
       "      <td>2</td>\n",
       "    </tr>\n",
       "    <tr>\n",
       "      <th>40</th>\n",
       "      <td>(DoItYBks, CookBks)</td>\n",
       "      <td>(ArtBks)</td>\n",
       "      <td>0.1875</td>\n",
       "      <td>0.241</td>\n",
       "      <td>0.1015</td>\n",
       "      <td>0.541333</td>\n",
       "      <td>2.246196</td>\n",
       "      <td>0.056313</td>\n",
       "      <td>1.654797</td>\n",
       "      <td>2</td>\n",
       "    </tr>\n",
       "    <tr>\n",
       "      <th>44</th>\n",
       "      <td>(ArtBks, CookBks)</td>\n",
       "      <td>(GeogBks)</td>\n",
       "      <td>0.1670</td>\n",
       "      <td>0.276</td>\n",
       "      <td>0.1035</td>\n",
       "      <td>0.619760</td>\n",
       "      <td>2.245509</td>\n",
       "      <td>0.057408</td>\n",
       "      <td>1.904063</td>\n",
       "      <td>2</td>\n",
       "    </tr>\n",
       "    <tr>\n",
       "      <th>43</th>\n",
       "      <td>(GeogBks, CookBks)</td>\n",
       "      <td>(ArtBks)</td>\n",
       "      <td>0.1925</td>\n",
       "      <td>0.241</td>\n",
       "      <td>0.1035</td>\n",
       "      <td>0.537662</td>\n",
       "      <td>2.230964</td>\n",
       "      <td>0.057107</td>\n",
       "      <td>1.641657</td>\n",
       "      <td>2</td>\n",
       "    </tr>\n",
       "    <tr>\n",
       "      <th>46</th>\n",
       "      <td>(GeogBks, ChildBks)</td>\n",
       "      <td>(ArtBks)</td>\n",
       "      <td>0.1950</td>\n",
       "      <td>0.241</td>\n",
       "      <td>0.1020</td>\n",
       "      <td>0.523077</td>\n",
       "      <td>2.170444</td>\n",
       "      <td>0.055005</td>\n",
       "      <td>1.591452</td>\n",
       "      <td>2</td>\n",
       "    </tr>\n",
       "  </tbody>\n",
       "</table>\n",
       "</div>"
      ],
      "text/plain": [
       "            antecedents consequents  antecedent support  consequent support  \\\n",
       "47   (ArtBks, ChildBks)   (GeogBks)              0.1625               0.276   \n",
       "40  (DoItYBks, CookBks)    (ArtBks)              0.1875               0.241   \n",
       "44    (ArtBks, CookBks)   (GeogBks)              0.1670               0.276   \n",
       "43   (GeogBks, CookBks)    (ArtBks)              0.1925               0.241   \n",
       "46  (GeogBks, ChildBks)    (ArtBks)              0.1950               0.241   \n",
       "\n",
       "    support  confidence      lift  leverage  conviction  lhs item  \n",
       "47   0.1020    0.627692  2.274247  0.057150    1.944628         2  \n",
       "40   0.1015    0.541333  2.246196  0.056313    1.654797         2  \n",
       "44   0.1035    0.619760  2.245509  0.057408    1.904063         2  \n",
       "43   0.1035    0.537662  2.230964  0.057107    1.641657         2  \n",
       "46   0.1020    0.523077  2.170444  0.055005    1.591452         2  "
      ]
     },
     "execution_count": 69,
     "metadata": {},
     "output_type": "execute_result"
    }
   ],
   "source": [
    "rules_fp['lhs item'] = rules_fp['antecedents'].apply(lambda x:len(x))\n",
    "rules_fp[rules_fp['lhs item']>1].sort_values('lift',ascending=False).head()"
   ]
  },
  {
   "cell_type": "markdown",
   "id": "6eb16262",
   "metadata": {},
   "source": [
    "Replace Frozen sets with strings¶"
   ]
  },
  {
   "cell_type": "code",
   "execution_count": 70,
   "id": "db536fd3",
   "metadata": {},
   "outputs": [],
   "source": [
    "rules_fp['antecedents_'] = rules_fp['antecedents'].apply(lambda a: ','.join(list(a)))\n",
    "rules_fp['consequents_'] = rules_fp['consequents'].apply(lambda a: ','.join(list(a)))"
   ]
  },
  {
   "cell_type": "markdown",
   "id": "719284ed",
   "metadata": {},
   "source": [
    "Transform the DataFrame of Rules into a Matrix using the confidence metric¶"
   ]
  },
  {
   "cell_type": "code",
   "execution_count": 71,
   "id": "318b317b",
   "metadata": {},
   "outputs": [],
   "source": [
    "pivot = rules_fp[rules_fp['lhs item']>1].pivot(index = 'antecedents_',\n",
    "                                                      columns='consequents_', values='confidence')"
   ]
  },
  {
   "cell_type": "markdown",
   "id": "30ddc8de",
   "metadata": {},
   "source": [
    "# Creating a Heatmap with annotations¶"
   ]
  },
  {
   "cell_type": "code",
   "execution_count": 72,
   "id": "31f40479",
   "metadata": {},
   "outputs": [
    {
     "data": {
      "image/png": "[encoded data removed]",
      "text/plain": [
       "<Figure size 864x432 with 2 Axes>"
      ]
     },
     "metadata": {
      "needs_background": "light"
     },
     "output_type": "display_data"
    }
   ],
   "source": [
    "plt.figure(figsize=(12,6))\n",
    "sns.heatmap(pivot,annot = True)\n",
    "plt.title('Heat Map - For Confidence Metric',color='red',fontsize=24)\n",
    "plt.xticks(rotation=90)\n",
    "plt.yticks(rotation=0)\n",
    "plt.xlabel('consequents_',color='red',fontsize=18)\n",
    "plt.ylabel('antecedents_',color='red',fontsize=18)\n",
    "plt.show()"
   ]
  },
  {
   "cell_type": "code",
   "execution_count": 73,
   "id": "18f69e66",
   "metadata": {},
   "outputs": [
    {
     "data": {
      "text/plain": [
       "(100, 9)"
      ]
     },
     "execution_count": 73,
     "metadata": {},
     "output_type": "execute_result"
    }
   ],
   "source": [
    "rules_fp_li = association_rules(frequent_itemsets_fp,metric=\"lift\",min_threshold=0.6)\n",
    "rules_fp_li.shape"
   ]
  },
  {
   "cell_type": "code",
   "execution_count": 74,
   "id": "6b8346c6",
   "metadata": {},
   "outputs": [
    {
     "data": {
      "text/html": [
       "<div>\n",
       "<style scoped>\n",
       "    .dataframe tbody tr th:only-of-type {\n",
       "        vertical-align: middle;\n",
       "    }\n",
       "\n",
       "    .dataframe tbody tr th {\n",
       "        vertical-align: top;\n",
       "    }\n",
       "\n",
       "    .dataframe thead th {\n",
       "        text-align: right;\n",
       "    }\n",
       "</style>\n",
       "<table border=\"1\" class=\"dataframe\">\n",
       "  <thead>\n",
       "    <tr style=\"text-align: right;\">\n",
       "      <th></th>\n",
       "      <th>antecedents</th>\n",
       "      <th>consequents</th>\n",
       "      <th>antecedent support</th>\n",
       "      <th>consequent support</th>\n",
       "      <th>support</th>\n",
       "      <th>confidence</th>\n",
       "      <th>lift</th>\n",
       "      <th>leverage</th>\n",
       "      <th>conviction</th>\n",
       "      <th>lhs items</th>\n",
       "    </tr>\n",
       "  </thead>\n",
       "  <tbody>\n",
       "    <tr>\n",
       "      <th>94</th>\n",
       "      <td>(ArtBks, ChildBks)</td>\n",
       "      <td>(GeogBks)</td>\n",
       "      <td>0.1625</td>\n",
       "      <td>0.2760</td>\n",
       "      <td>0.1020</td>\n",
       "      <td>0.627692</td>\n",
       "      <td>2.274247</td>\n",
       "      <td>0.057150</td>\n",
       "      <td>1.944628</td>\n",
       "      <td>2</td>\n",
       "    </tr>\n",
       "    <tr>\n",
       "      <th>81</th>\n",
       "      <td>(DoItYBks, CookBks)</td>\n",
       "      <td>(ArtBks)</td>\n",
       "      <td>0.1875</td>\n",
       "      <td>0.2410</td>\n",
       "      <td>0.1015</td>\n",
       "      <td>0.541333</td>\n",
       "      <td>2.246196</td>\n",
       "      <td>0.056313</td>\n",
       "      <td>1.654797</td>\n",
       "      <td>2</td>\n",
       "    </tr>\n",
       "    <tr>\n",
       "      <th>88</th>\n",
       "      <td>(ArtBks, CookBks)</td>\n",
       "      <td>(GeogBks)</td>\n",
       "      <td>0.1670</td>\n",
       "      <td>0.2760</td>\n",
       "      <td>0.1035</td>\n",
       "      <td>0.619760</td>\n",
       "      <td>2.245509</td>\n",
       "      <td>0.057408</td>\n",
       "      <td>1.904063</td>\n",
       "      <td>2</td>\n",
       "    </tr>\n",
       "    <tr>\n",
       "      <th>87</th>\n",
       "      <td>(GeogBks, CookBks)</td>\n",
       "      <td>(ArtBks)</td>\n",
       "      <td>0.1925</td>\n",
       "      <td>0.2410</td>\n",
       "      <td>0.1035</td>\n",
       "      <td>0.537662</td>\n",
       "      <td>2.230964</td>\n",
       "      <td>0.057107</td>\n",
       "      <td>1.641657</td>\n",
       "      <td>2</td>\n",
       "    </tr>\n",
       "    <tr>\n",
       "      <th>60</th>\n",
       "      <td>(CookBks, ChildBks)</td>\n",
       "      <td>(RefBks)</td>\n",
       "      <td>0.2560</td>\n",
       "      <td>0.2145</td>\n",
       "      <td>0.1225</td>\n",
       "      <td>0.478516</td>\n",
       "      <td>2.230842</td>\n",
       "      <td>0.067588</td>\n",
       "      <td>1.506277</td>\n",
       "      <td>2</td>\n",
       "    </tr>\n",
       "  </tbody>\n",
       "</table>\n",
       "</div>"
      ],
      "text/plain": [
       "            antecedents consequents  antecedent support  consequent support  \\\n",
       "94   (ArtBks, ChildBks)   (GeogBks)              0.1625              0.2760   \n",
       "81  (DoItYBks, CookBks)    (ArtBks)              0.1875              0.2410   \n",
       "88    (ArtBks, CookBks)   (GeogBks)              0.1670              0.2760   \n",
       "87   (GeogBks, CookBks)    (ArtBks)              0.1925              0.2410   \n",
       "60  (CookBks, ChildBks)    (RefBks)              0.2560              0.2145   \n",
       "\n",
       "    support  confidence      lift  leverage  conviction  lhs items  \n",
       "94   0.1020    0.627692  2.274247  0.057150    1.944628          2  \n",
       "81   0.1015    0.541333  2.246196  0.056313    1.654797          2  \n",
       "88   0.1035    0.619760  2.245509  0.057408    1.904063          2  \n",
       "87   0.1035    0.537662  2.230964  0.057107    1.641657          2  \n",
       "60   0.1225    0.478516  2.230842  0.067588    1.506277          2  "
      ]
     },
     "execution_count": 74,
     "metadata": {},
     "output_type": "execute_result"
    }
   ],
   "source": [
    "rules_fp_li['lhs items'] = rules_fp_li['antecedents'].apply(lambda x:len(x))\n",
    "rules_fp_li[rules_fp_li['lhs items']>1].sort_values('lift',ascending=False).head()"
   ]
  },
  {
   "cell_type": "markdown",
   "id": "16357ca2",
   "metadata": {},
   "source": [
    "Replace Frozen sets with strings"
   ]
  },
  {
   "cell_type": "code",
   "execution_count": 75,
   "id": "34db1912",
   "metadata": {},
   "outputs": [],
   "source": [
    "rules_fp_li['antecedents_'] = rules_fp_li['antecedents'].apply(lambda a: ','.join(list(a)))\n",
    "rules_fp_li['consequents_'] = rules_fp_li['consequents'].apply(lambda a: ','.join(list(a)))"
   ]
  },
  {
   "cell_type": "markdown",
   "id": "5d9cbe88",
   "metadata": {},
   "source": [
    "Transform the DataFrame of Rules into a Matrix using the confidence metric"
   ]
  },
  {
   "cell_type": "code",
   "execution_count": 76,
   "id": "c07c1fb1",
   "metadata": {},
   "outputs": [],
   "source": [
    "pivot = rules_fp_li[rules_fp_li['lhs items']>1].pivot(index = 'antecedents_',\n",
    "                                                      columns='consequents_', values='lift')"
   ]
  },
  {
   "cell_type": "markdown",
   "id": "c1e18aa1",
   "metadata": {},
   "source": [
    "Creating a Heatmap with annotations"
   ]
  },
  {
   "cell_type": "code",
   "execution_count": 77,
   "id": "cafc451d",
   "metadata": {},
   "outputs": [
    {
     "data": {
      "image/png": "[encoded data removed]",
      "text/plain": [
       "<Figure size 864x432 with 2 Axes>"
      ]
     },
     "metadata": {
      "needs_background": "light"
     },
     "output_type": "display_data"
    }
   ],
   "source": [
    "plt.figure(figsize=(12,6))\n",
    "sns.heatmap(pivot,annot = True)\n",
    "plt.title('Heat Map - For Lift Metric',color='red',fontsize=24)\n",
    "plt.xticks(rotation=90)\n",
    "plt.yticks(rotation=0)\n",
    "plt.xlabel('consequents_',color='red',fontsize=18)\n",
    "plt.ylabel('antecedents_',color='red',fontsize=18)\n",
    "plt.show()"
   ]
  },
  {
   "cell_type": "code",
   "execution_count": null,
   "id": "a9b029a6",
   "metadata": {},
   "outputs": [],
   "source": []
  }
 ],
 "metadata": {
  "kernelspec": {
   "display_name": "Python 3 (ipykernel)",
   "language": "python",
   "name": "python3"
  },
  "language_info": {
   "codemirror_mode": {
    "name": "ipython",
    "version": 3
   },
   "file_extension": ".py",
   "mimetype": "text/x-python",
   "name": "python",
   "nbconvert_exporter": "python",
   "pygments_lexer": "ipython3",
   "version": "3.9.12"
  }
 },
 "nbformat": 4,
 "nbformat_minor": 5
}
